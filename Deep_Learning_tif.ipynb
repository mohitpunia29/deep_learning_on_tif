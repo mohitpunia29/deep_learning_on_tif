{
 "cells": [
  {
   "cell_type": "code",
   "execution_count": 1,
   "metadata": {},
   "outputs": [
    {
     "name": "stdout",
     "output_type": "stream",
     "text": [
      "<osgeo.gdal.Dataset; proxy of <Swig Object of type 'GDALDatasetShadow *' at 0x0000027DB27E1690> >\n"
     ]
    },
    {
     "data": {
      "text/plain": [
       "<Figure size 800x800 with 1 Axes>"
      ]
     },
     "metadata": {},
     "output_type": "display_data"
    },
    {
     "data": {
      "text/plain": [
       "<Figure size 640x480 with 1 Axes>"
      ]
     },
     "metadata": {},
     "output_type": "display_data"
    },
    {
     "data": {
      "text/plain": [
       "<Figure size 640x480 with 1 Axes>"
      ]
     },
     "metadata": {},
     "output_type": "display_data"
    },
    {
     "data": {
      "text/plain": [
       "<Figure size 640x480 with 1 Axes>"
      ]
     },
     "metadata": {},
     "output_type": "display_data"
    },
    {
     "data": {
      "text/plain": [
       "<Figure size 640x480 with 1 Axes>"
      ]
     },
     "metadata": {},
     "output_type": "display_data"
    },
    {
     "data": {
      "text/plain": [
       "<Figure size 640x480 with 1 Axes>"
      ]
     },
     "metadata": {},
     "output_type": "display_data"
    },
    {
     "data": {
      "text/plain": [
       "<Figure size 640x480 with 1 Axes>"
      ]
     },
     "metadata": {},
     "output_type": "display_data"
    },
    {
     "data": {
      "text/plain": [
       "<Figure size 640x480 with 1 Axes>"
      ]
     },
     "metadata": {},
     "output_type": "display_data"
    },
    {
     "data": {
      "text/plain": [
       "<Figure size 640x480 with 1 Axes>"
      ]
     },
     "metadata": {},
     "output_type": "display_data"
    },
    {
     "data": {
      "text/plain": [
       "<Figure size 640x480 with 1 Axes>"
      ]
     },
     "metadata": {},
     "output_type": "display_data"
    },
    {
     "data": {
      "text/plain": [
       "<Figure size 640x480 with 1 Axes>"
      ]
     },
     "metadata": {},
     "output_type": "display_data"
    },
    {
     "data": {
      "text/plain": [
       "<Figure size 640x480 with 1 Axes>"
      ]
     },
     "metadata": {},
     "output_type": "display_data"
    },
    {
     "data": {
      "text/plain": [
       "<Figure size 640x480 with 1 Axes>"
      ]
     },
     "metadata": {},
     "output_type": "display_data"
    },
    {
     "name": "stdout",
     "output_type": "stream",
     "text": [
      "<osgeo.gdal.Dataset; proxy of <Swig Object of type 'GDALDatasetShadow *' at 0x0000027DB3364C00> >\n"
     ]
    },
    {
     "data": {
      "text/plain": [
       "<Figure size 800x800 with 1 Axes>"
      ]
     },
     "metadata": {},
     "output_type": "display_data"
    },
    {
     "data": {
      "text/plain": [
       "<Figure size 640x480 with 1 Axes>"
      ]
     },
     "metadata": {},
     "output_type": "display_data"
    },
    {
     "data": {
      "text/plain": [
       "<Figure size 640x480 with 1 Axes>"
      ]
     },
     "metadata": {},
     "output_type": "display_data"
    },
    {
     "data": {
      "text/plain": [
       "<Figure size 640x480 with 1 Axes>"
      ]
     },
     "metadata": {},
     "output_type": "display_data"
    },
    {
     "data": {
      "text/plain": [
       "<Figure size 640x480 with 1 Axes>"
      ]
     },
     "metadata": {},
     "output_type": "display_data"
    },
    {
     "data": {
      "text/plain": [
       "<Figure size 640x480 with 1 Axes>"
      ]
     },
     "metadata": {},
     "output_type": "display_data"
    },
    {
     "data": {
      "text/plain": [
       "<Figure size 640x480 with 1 Axes>"
      ]
     },
     "metadata": {},
     "output_type": "display_data"
    },
    {
     "data": {
      "text/plain": [
       "<Figure size 640x480 with 1 Axes>"
      ]
     },
     "metadata": {},
     "output_type": "display_data"
    },
    {
     "data": {
      "text/plain": [
       "<Figure size 640x480 with 1 Axes>"
      ]
     },
     "metadata": {},
     "output_type": "display_data"
    },
    {
     "data": {
      "text/plain": [
       "<Figure size 640x480 with 1 Axes>"
      ]
     },
     "metadata": {},
     "output_type": "display_data"
    },
    {
     "data": {
      "text/plain": [
       "<Figure size 640x480 with 1 Axes>"
      ]
     },
     "metadata": {},
     "output_type": "display_data"
    },
    {
     "data": {
      "text/plain": [
       "<Figure size 640x480 with 1 Axes>"
      ]
     },
     "metadata": {},
     "output_type": "display_data"
    },
    {
     "data": {
      "text/plain": [
       "<Figure size 640x480 with 1 Axes>"
      ]
     },
     "metadata": {},
     "output_type": "display_data"
    },
    {
     "name": "stdout",
     "output_type": "stream",
     "text": [
      "<osgeo.gdal.Dataset; proxy of <Swig Object of type 'GDALDatasetShadow *' at 0x0000027DB3364C60> >\n"
     ]
    },
    {
     "data": {
      "text/plain": [
       "<Figure size 800x800 with 1 Axes>"
      ]
     },
     "metadata": {},
     "output_type": "display_data"
    },
    {
     "data": {
      "text/plain": [
       "<Figure size 640x480 with 1 Axes>"
      ]
     },
     "metadata": {},
     "output_type": "display_data"
    },
    {
     "data": {
      "text/plain": [
       "<Figure size 640x480 with 1 Axes>"
      ]
     },
     "metadata": {},
     "output_type": "display_data"
    },
    {
     "data": {
      "text/plain": [
       "<Figure size 640x480 with 1 Axes>"
      ]
     },
     "metadata": {},
     "output_type": "display_data"
    },
    {
     "data": {
      "text/plain": [
       "<Figure size 640x480 with 1 Axes>"
      ]
     },
     "metadata": {},
     "output_type": "display_data"
    },
    {
     "data": {
      "text/plain": [
       "<Figure size 640x480 with 1 Axes>"
      ]
     },
     "metadata": {},
     "output_type": "display_data"
    },
    {
     "data": {
      "text/plain": [
       "<Figure size 640x480 with 1 Axes>"
      ]
     },
     "metadata": {},
     "output_type": "display_data"
    },
    {
     "data": {
      "text/plain": [
       "<Figure size 640x480 with 1 Axes>"
      ]
     },
     "metadata": {},
     "output_type": "display_data"
    },
    {
     "data": {
      "text/plain": [
       "<Figure size 640x480 with 1 Axes>"
      ]
     },
     "metadata": {},
     "output_type": "display_data"
    },
    {
     "data": {
      "text/plain": [
       "<Figure size 640x480 with 1 Axes>"
      ]
     },
     "metadata": {},
     "output_type": "display_data"
    },
    {
     "data": {
      "text/plain": [
       "<Figure size 640x480 with 1 Axes>"
      ]
     },
     "metadata": {},
     "output_type": "display_data"
    },
    {
     "data": {
      "text/plain": [
       "<Figure size 640x480 with 1 Axes>"
      ]
     },
     "metadata": {},
     "output_type": "display_data"
    },
    {
     "data": {
      "text/plain": [
       "<Figure size 640x480 with 1 Axes>"
      ]
     },
     "metadata": {},
     "output_type": "display_data"
    },
    {
     "name": "stdout",
     "output_type": "stream",
     "text": [
      "<osgeo.gdal.Dataset; proxy of <Swig Object of type 'GDALDatasetShadow *' at 0x0000027DB34AA3F0> >\n"
     ]
    },
    {
     "data": {
      "text/plain": [
       "<Figure size 800x800 with 1 Axes>"
      ]
     },
     "metadata": {},
     "output_type": "display_data"
    },
    {
     "data": {
      "text/plain": [
       "<Figure size 640x480 with 1 Axes>"
      ]
     },
     "metadata": {},
     "output_type": "display_data"
    },
    {
     "data": {
      "text/plain": [
       "<Figure size 640x480 with 1 Axes>"
      ]
     },
     "metadata": {},
     "output_type": "display_data"
    },
    {
     "data": {
      "text/plain": [
       "<Figure size 640x480 with 1 Axes>"
      ]
     },
     "metadata": {},
     "output_type": "display_data"
    },
    {
     "data": {
      "text/plain": [
       "<Figure size 640x480 with 1 Axes>"
      ]
     },
     "metadata": {},
     "output_type": "display_data"
    },
    {
     "data": {
      "text/plain": [
       "<Figure size 640x480 with 1 Axes>"
      ]
     },
     "metadata": {},
     "output_type": "display_data"
    },
    {
     "data": {
      "text/plain": [
       "<Figure size 640x480 with 1 Axes>"
      ]
     },
     "metadata": {},
     "output_type": "display_data"
    },
    {
     "data": {
      "text/plain": [
       "<Figure size 640x480 with 1 Axes>"
      ]
     },
     "metadata": {},
     "output_type": "display_data"
    },
    {
     "data": {
      "text/plain": [
       "<Figure size 640x480 with 1 Axes>"
      ]
     },
     "metadata": {},
     "output_type": "display_data"
    },
    {
     "data": {
      "text/plain": [
       "<Figure size 640x480 with 1 Axes>"
      ]
     },
     "metadata": {},
     "output_type": "display_data"
    },
    {
     "data": {
      "text/plain": [
       "<Figure size 640x480 with 1 Axes>"
      ]
     },
     "metadata": {},
     "output_type": "display_data"
    },
    {
     "data": {
      "text/plain": [
       "<Figure size 640x480 with 1 Axes>"
      ]
     },
     "metadata": {},
     "output_type": "display_data"
    },
    {
     "data": {
      "text/plain": [
       "<Figure size 640x480 with 1 Axes>"
      ]
     },
     "metadata": {},
     "output_type": "display_data"
    },
    {
     "name": "stdout",
     "output_type": "stream",
     "text": [
      "<osgeo.gdal.Dataset; proxy of <Swig Object of type 'GDALDatasetShadow *' at 0x0000027DB34AA960> >\n"
     ]
    },
    {
     "data": {
      "text/plain": [
       "<Figure size 800x800 with 1 Axes>"
      ]
     },
     "metadata": {},
     "output_type": "display_data"
    },
    {
     "data": {
      "text/plain": [
       "<Figure size 640x480 with 1 Axes>"
      ]
     },
     "metadata": {},
     "output_type": "display_data"
    },
    {
     "data": {
      "text/plain": [
       "<Figure size 640x480 with 1 Axes>"
      ]
     },
     "metadata": {},
     "output_type": "display_data"
    },
    {
     "data": {
      "text/plain": [
       "<Figure size 640x480 with 1 Axes>"
      ]
     },
     "metadata": {},
     "output_type": "display_data"
    },
    {
     "data": {
      "text/plain": [
       "<Figure size 640x480 with 1 Axes>"
      ]
     },
     "metadata": {},
     "output_type": "display_data"
    },
    {
     "data": {
      "text/plain": [
       "<Figure size 640x480 with 1 Axes>"
      ]
     },
     "metadata": {},
     "output_type": "display_data"
    },
    {
     "data": {
      "text/plain": [
       "<Figure size 640x480 with 1 Axes>"
      ]
     },
     "metadata": {},
     "output_type": "display_data"
    },
    {
     "data": {
      "text/plain": [
       "<Figure size 640x480 with 1 Axes>"
      ]
     },
     "metadata": {},
     "output_type": "display_data"
    },
    {
     "data": {
      "text/plain": [
       "<Figure size 640x480 with 1 Axes>"
      ]
     },
     "metadata": {},
     "output_type": "display_data"
    },
    {
     "data": {
      "text/plain": [
       "<Figure size 640x480 with 1 Axes>"
      ]
     },
     "metadata": {},
     "output_type": "display_data"
    },
    {
     "data": {
      "text/plain": [
       "<Figure size 640x480 with 1 Axes>"
      ]
     },
     "metadata": {},
     "output_type": "display_data"
    },
    {
     "data": {
      "text/plain": [
       "<Figure size 640x480 with 1 Axes>"
      ]
     },
     "metadata": {},
     "output_type": "display_data"
    },
    {
     "data": {
      "text/plain": [
       "<Figure size 640x480 with 1 Axes>"
      ]
     },
     "metadata": {},
     "output_type": "display_data"
    },
    {
     "name": "stdout",
     "output_type": "stream",
     "text": [
      "<osgeo.gdal.Dataset; proxy of <Swig Object of type 'GDALDatasetShadow *' at 0x0000027DB34AA210> >\n"
     ]
    },
    {
     "data": {
      "text/plain": [
       "<Figure size 800x800 with 1 Axes>"
      ]
     },
     "metadata": {},
     "output_type": "display_data"
    },
    {
     "data": {
      "text/plain": [
       "<Figure size 640x480 with 1 Axes>"
      ]
     },
     "metadata": {},
     "output_type": "display_data"
    },
    {
     "data": {
      "text/plain": [
       "<Figure size 640x480 with 1 Axes>"
      ]
     },
     "metadata": {},
     "output_type": "display_data"
    },
    {
     "data": {
      "text/plain": [
       "<Figure size 640x480 with 1 Axes>"
      ]
     },
     "metadata": {},
     "output_type": "display_data"
    },
    {
     "data": {
      "text/plain": [
       "<Figure size 640x480 with 1 Axes>"
      ]
     },
     "metadata": {},
     "output_type": "display_data"
    },
    {
     "data": {
      "text/plain": [
       "<Figure size 640x480 with 1 Axes>"
      ]
     },
     "metadata": {},
     "output_type": "display_data"
    },
    {
     "data": {
      "text/plain": [
       "<Figure size 640x480 with 1 Axes>"
      ]
     },
     "metadata": {},
     "output_type": "display_data"
    },
    {
     "data": {
      "text/plain": [
       "<Figure size 640x480 with 1 Axes>"
      ]
     },
     "metadata": {},
     "output_type": "display_data"
    },
    {
     "data": {
      "text/plain": [
       "<Figure size 640x480 with 1 Axes>"
      ]
     },
     "metadata": {},
     "output_type": "display_data"
    },
    {
     "data": {
      "text/plain": [
       "<Figure size 640x480 with 1 Axes>"
      ]
     },
     "metadata": {},
     "output_type": "display_data"
    },
    {
     "data": {
      "text/plain": [
       "<Figure size 640x480 with 1 Axes>"
      ]
     },
     "metadata": {},
     "output_type": "display_data"
    },
    {
     "data": {
      "text/plain": [
       "<Figure size 640x480 with 1 Axes>"
      ]
     },
     "metadata": {},
     "output_type": "display_data"
    },
    {
     "data": {
      "text/plain": [
       "<Figure size 640x480 with 1 Axes>"
      ]
     },
     "metadata": {},
     "output_type": "display_data"
    },
    {
     "name": "stdout",
     "output_type": "stream",
     "text": [
      "<osgeo.gdal.Dataset; proxy of <Swig Object of type 'GDALDatasetShadow *' at 0x0000027DB34AA240> >\n"
     ]
    },
    {
     "data": {
      "text/plain": [
       "<Figure size 800x800 with 1 Axes>"
      ]
     },
     "metadata": {},
     "output_type": "display_data"
    },
    {
     "data": {
      "text/plain": [
       "<Figure size 640x480 with 1 Axes>"
      ]
     },
     "metadata": {},
     "output_type": "display_data"
    },
    {
     "data": {
      "text/plain": [
       "<Figure size 640x480 with 1 Axes>"
      ]
     },
     "metadata": {},
     "output_type": "display_data"
    },
    {
     "data": {
      "text/plain": [
       "<Figure size 640x480 with 1 Axes>"
      ]
     },
     "metadata": {},
     "output_type": "display_data"
    },
    {
     "data": {
      "text/plain": [
       "<Figure size 640x480 with 1 Axes>"
      ]
     },
     "metadata": {},
     "output_type": "display_data"
    },
    {
     "data": {
      "text/plain": [
       "<Figure size 640x480 with 1 Axes>"
      ]
     },
     "metadata": {},
     "output_type": "display_data"
    },
    {
     "data": {
      "text/plain": [
       "<Figure size 640x480 with 1 Axes>"
      ]
     },
     "metadata": {},
     "output_type": "display_data"
    },
    {
     "data": {
      "text/plain": [
       "<Figure size 640x480 with 1 Axes>"
      ]
     },
     "metadata": {},
     "output_type": "display_data"
    },
    {
     "data": {
      "text/plain": [
       "<Figure size 640x480 with 1 Axes>"
      ]
     },
     "metadata": {},
     "output_type": "display_data"
    },
    {
     "data": {
      "text/plain": [
       "<Figure size 640x480 with 1 Axes>"
      ]
     },
     "metadata": {},
     "output_type": "display_data"
    },
    {
     "data": {
      "text/plain": [
       "<Figure size 640x480 with 1 Axes>"
      ]
     },
     "metadata": {},
     "output_type": "display_data"
    },
    {
     "data": {
      "text/plain": [
       "<Figure size 640x480 with 1 Axes>"
      ]
     },
     "metadata": {},
     "output_type": "display_data"
    },
    {
     "data": {
      "text/plain": [
       "<Figure size 640x480 with 1 Axes>"
      ]
     },
     "metadata": {},
     "output_type": "display_data"
    },
    {
     "name": "stdout",
     "output_type": "stream",
     "text": [
      "<osgeo.gdal.Dataset; proxy of <Swig Object of type 'GDALDatasetShadow *' at 0x0000027DB3364C90> >\n"
     ]
    },
    {
     "data": {
      "text/plain": [
       "<Figure size 800x800 with 1 Axes>"
      ]
     },
     "metadata": {},
     "output_type": "display_data"
    },
    {
     "data": {
      "text/plain": [
       "<Figure size 640x480 with 1 Axes>"
      ]
     },
     "metadata": {},
     "output_type": "display_data"
    },
    {
     "data": {
      "text/plain": [
       "<Figure size 640x480 with 1 Axes>"
      ]
     },
     "metadata": {},
     "output_type": "display_data"
    },
    {
     "data": {
      "text/plain": [
       "<Figure size 640x480 with 1 Axes>"
      ]
     },
     "metadata": {},
     "output_type": "display_data"
    },
    {
     "data": {
      "text/plain": [
       "<Figure size 640x480 with 1 Axes>"
      ]
     },
     "metadata": {},
     "output_type": "display_data"
    },
    {
     "data": {
      "text/plain": [
       "<Figure size 640x480 with 1 Axes>"
      ]
     },
     "metadata": {},
     "output_type": "display_data"
    },
    {
     "data": {
      "text/plain": [
       "<Figure size 640x480 with 1 Axes>"
      ]
     },
     "metadata": {},
     "output_type": "display_data"
    },
    {
     "data": {
      "text/plain": [
       "<Figure size 640x480 with 1 Axes>"
      ]
     },
     "metadata": {},
     "output_type": "display_data"
    },
    {
     "data": {
      "text/plain": [
       "<Figure size 640x480 with 1 Axes>"
      ]
     },
     "metadata": {},
     "output_type": "display_data"
    },
    {
     "data": {
      "text/plain": [
       "<Figure size 640x480 with 1 Axes>"
      ]
     },
     "metadata": {},
     "output_type": "display_data"
    },
    {
     "data": {
      "text/plain": [
       "<Figure size 640x480 with 1 Axes>"
      ]
     },
     "metadata": {},
     "output_type": "display_data"
    },
    {
     "data": {
      "text/plain": [
       "<Figure size 640x480 with 1 Axes>"
      ]
     },
     "metadata": {},
     "output_type": "display_data"
    },
    {
     "data": {
      "text/plain": [
       "<Figure size 640x480 with 1 Axes>"
      ]
     },
     "metadata": {},
     "output_type": "display_data"
    },
    {
     "name": "stdout",
     "output_type": "stream",
     "text": [
      "<osgeo.gdal.Dataset; proxy of <Swig Object of type 'GDALDatasetShadow *' at 0x0000027DB3364ED0> >\n"
     ]
    },
    {
     "data": {
      "text/plain": [
       "<Figure size 800x800 with 1 Axes>"
      ]
     },
     "metadata": {},
     "output_type": "display_data"
    },
    {
     "data": {
      "text/plain": [
       "<Figure size 640x480 with 1 Axes>"
      ]
     },
     "metadata": {},
     "output_type": "display_data"
    },
    {
     "data": {
      "text/plain": [
       "<Figure size 640x480 with 1 Axes>"
      ]
     },
     "metadata": {},
     "output_type": "display_data"
    },
    {
     "data": {
      "text/plain": [
       "<Figure size 640x480 with 1 Axes>"
      ]
     },
     "metadata": {},
     "output_type": "display_data"
    },
    {
     "data": {
      "text/plain": [
       "<Figure size 640x480 with 1 Axes>"
      ]
     },
     "metadata": {},
     "output_type": "display_data"
    },
    {
     "data": {
      "text/plain": [
       "<Figure size 640x480 with 1 Axes>"
      ]
     },
     "metadata": {},
     "output_type": "display_data"
    },
    {
     "data": {
      "text/plain": [
       "<Figure size 640x480 with 1 Axes>"
      ]
     },
     "metadata": {},
     "output_type": "display_data"
    },
    {
     "data": {
      "text/plain": [
       "<Figure size 640x480 with 1 Axes>"
      ]
     },
     "metadata": {},
     "output_type": "display_data"
    },
    {
     "data": {
      "text/plain": [
       "<Figure size 640x480 with 1 Axes>"
      ]
     },
     "metadata": {},
     "output_type": "display_data"
    },
    {
     "data": {
      "text/plain": [
       "<Figure size 640x480 with 1 Axes>"
      ]
     },
     "metadata": {},
     "output_type": "display_data"
    },
    {
     "data": {
      "text/plain": [
       "<Figure size 640x480 with 1 Axes>"
      ]
     },
     "metadata": {},
     "output_type": "display_data"
    },
    {
     "data": {
      "text/plain": [
       "<Figure size 640x480 with 1 Axes>"
      ]
     },
     "metadata": {},
     "output_type": "display_data"
    },
    {
     "data": {
      "text/plain": [
       "<Figure size 640x480 with 1 Axes>"
      ]
     },
     "metadata": {},
     "output_type": "display_data"
    },
    {
     "name": "stdout",
     "output_type": "stream",
     "text": [
      "<osgeo.gdal.Dataset; proxy of <Swig Object of type 'GDALDatasetShadow *' at 0x0000027DB3364FC0> >\n"
     ]
    },
    {
     "data": {
      "text/plain": [
       "<Figure size 800x800 with 1 Axes>"
      ]
     },
     "metadata": {},
     "output_type": "display_data"
    },
    {
     "data": {
      "text/plain": [
       "<Figure size 640x480 with 1 Axes>"
      ]
     },
     "metadata": {},
     "output_type": "display_data"
    },
    {
     "data": {
      "text/plain": [
       "<Figure size 640x480 with 1 Axes>"
      ]
     },
     "metadata": {},
     "output_type": "display_data"
    },
    {
     "data": {
      "text/plain": [
       "<Figure size 640x480 with 1 Axes>"
      ]
     },
     "metadata": {},
     "output_type": "display_data"
    },
    {
     "data": {
      "text/plain": [
       "<Figure size 640x480 with 1 Axes>"
      ]
     },
     "metadata": {},
     "output_type": "display_data"
    },
    {
     "data": {
      "text/plain": [
       "<Figure size 640x480 with 1 Axes>"
      ]
     },
     "metadata": {},
     "output_type": "display_data"
    },
    {
     "data": {
      "text/plain": [
       "<Figure size 640x480 with 1 Axes>"
      ]
     },
     "metadata": {},
     "output_type": "display_data"
    },
    {
     "data": {
      "text/plain": [
       "<Figure size 640x480 with 1 Axes>"
      ]
     },
     "metadata": {},
     "output_type": "display_data"
    },
    {
     "data": {
      "text/plain": [
       "<Figure size 640x480 with 1 Axes>"
      ]
     },
     "metadata": {},
     "output_type": "display_data"
    },
    {
     "data": {
      "text/plain": [
       "<Figure size 640x480 with 1 Axes>"
      ]
     },
     "metadata": {},
     "output_type": "display_data"
    },
    {
     "data": {
      "text/plain": [
       "<Figure size 640x480 with 1 Axes>"
      ]
     },
     "metadata": {},
     "output_type": "display_data"
    },
    {
     "data": {
      "text/plain": [
       "<Figure size 640x480 with 1 Axes>"
      ]
     },
     "metadata": {},
     "output_type": "display_data"
    },
    {
     "data": {
      "text/plain": [
       "<Figure size 640x480 with 1 Axes>"
      ]
     },
     "metadata": {},
     "output_type": "display_data"
    }
   ],
   "source": [
    "import os\n",
    "import numpy as np\n",
    "import struct\n",
    "from osgeo import gdal\n",
    "from osgeo import ogr\n",
    "from osgeo import osr\n",
    "from osgeo import gdal_array\n",
    "from osgeo.gdalconst import *\n",
    "import os\n",
    "#print(os.environ['CUDA_VISIBLE_DIVICES'])=\"0\"\n",
    "os.environ['CUDA_VISIBLE_DIVICES']=\"1\"\n",
    "\n",
    "import matplotlib.pyplot as plt\n",
    "j=0\n",
    "while(j<10):\n",
    "    cube = gdal.Open(\"./\"+str(j)+\"/train_1.tif\")\n",
    "    print(cube)\n",
    "    bnd1 = cube.GetRasterBand(1)\n",
    "    bnd2 = cube.GetRasterBand(2)\n",
    "    bnd3 = cube.GetRasterBand(3)\n",
    "    bnd4 = cube.GetRasterBand(4)\n",
    "    bnd5 = cube.GetRasterBand(5)\n",
    "    bnd6 = cube.GetRasterBand(6)\n",
    "    bnd7 = cube.GetRasterBand(7)\n",
    "    bnd8 = cube.GetRasterBand(8)\n",
    "    bnd9 = cube.GetRasterBand(9)\n",
    "    bnd10 = cube.GetRasterBand(10)\n",
    "    bnd11 = cube.GetRasterBand(11)\n",
    "    bnd12 = cube.GetRasterBand(12)\n",
    "    bnd13 = cube.GetRasterBand(13)\n",
    "    image=[]\n",
    "    img1 = bnd1.ReadAsArray(0,0,cube.RasterXSize, cube.RasterYSize)\n",
    "    image.append(img1)\n",
    "    img2 = bnd2.ReadAsArray(0,0,cube.RasterXSize, cube.RasterYSize)\n",
    "    image.append(img2)\n",
    "    img3 = bnd3.ReadAsArray(0,0,cube.RasterXSize, cube.RasterYSize)\n",
    "    image.append(img3)\n",
    "    img4 = bnd4.ReadAsArray(0,0,cube.RasterXSize, cube.RasterYSize)\n",
    "    image.append(img4)\n",
    "    img5 = bnd5.ReadAsArray(0,0,cube.RasterXSize, cube.RasterYSize)\n",
    "    image.append(img5)\n",
    "    img6 = bnd6.ReadAsArray(0,0,cube.RasterXSize, cube.RasterYSize)\n",
    "    image.append(img6)\n",
    "    img7 = bnd7.ReadAsArray(0,0,cube.RasterXSize, cube.RasterYSize)\n",
    "    image.append(img7)\n",
    "    img8 = bnd8.ReadAsArray(0,0,cube.RasterXSize, cube.RasterYSize)\n",
    "    image.append(img8)\n",
    "    img9 = bnd9.ReadAsArray(0,0,cube.RasterXSize, cube.RasterYSize)\n",
    "    image.append(img9)\n",
    "    img10 = bnd10.ReadAsArray(0,0,cube.RasterXSize, cube.RasterYSize)\n",
    "    image.append(img10)\n",
    "    img11 = bnd11.ReadAsArray(0,0,cube.RasterXSize, cube.RasterYSize)\n",
    "    image.append(img11)\n",
    "    img12 = bnd12.ReadAsArray(0,0,cube.RasterXSize, cube.RasterYSize)\n",
    "    image.append(img12)\n",
    "    img13 = bnd13.ReadAsArray(0,0,cube.RasterXSize, cube.RasterYSize)\n",
    "    image.append(img13)\n",
    "    x = np.stack((img2,img3,img4),2)\n",
    "    img=np.stack((img1,img2,img3),)\n",
    "    #img.reshape(13,64,64)\n",
    "    w=10\n",
    "    h=10\n",
    "    fig=plt.figure(figsize=(8, 8))\n",
    "    columns = 4\n",
    "    rows = 5\n",
    "    for i in range(1, 14): \n",
    "        img=image[i-1]\n",
    "        fig.add_subplot(rows, columns, i)\n",
    "        plt.imshow(img,cmap='gray')\n",
    "        plt.show()\n",
    "    \n",
    "    j+=1"
   ]
  },
  {
   "cell_type": "markdown",
   "metadata": {},
   "source": [
    "Below function can be used to convert tif image into jpeg"
   ]
  },
  {
   "cell_type": "code",
   "execution_count": 2,
   "metadata": {},
   "outputs": [],
   "source": [
    "\n",
    "def RGBraster2array(RGB_geotif):\n",
    "\n",
    "    dataset = gdal.Open(RGB_geotif)\n",
    "\n",
    "    raster = dataset.GetRasterBand(1)\n",
    "    array_shape = raster.ReadAsArray(0,0,dataset.RasterXSize,dataset.RasterYSize).astype(np.float).shape\n",
    "\n",
    "    array = np.zeros((array_shape[0],array_shape[1],3),'uint8') #pre-allocate stackedArray matrix\n",
    "    for i in range(2, 5):\n",
    "        band = dataset.GetRasterBand(i).ReadAsArray(0,0,metadata['array_cols'],metadata['array_rows']).astype(np.float)\n",
    "        band[band==raster.GetNoDataValue()]=np.nan\n",
    "        band = band/raster.GetScale()\n",
    "        array[...,i-2] = band\n",
    "\n",
    "    return array"
   ]
  },
  {
   "cell_type": "code",
   "execution_count": 35,
   "metadata": {},
   "outputs": [],
   "source": [
    "def load_raster(cube):\n",
    "    \n",
    "    img1 = cube.GetRasterBand(1).ReadAsArray(0,0,cube.RasterXSize, cube.RasterYSize)\n",
    "    img2 = cube.GetRasterBand(2).ReadAsArray(0,0,cube.RasterXSize, cube.RasterYSize)\n",
    "    img3 = cube.GetRasterBand(3).ReadAsArray(0,0,cube.RasterXSize, cube.RasterYSize)\n",
    "    img4 = cube.GetRasterBand(4).ReadAsArray(0,0,cube.RasterXSize, cube.RasterYSize)\n",
    "    img5 = cube.GetRasterBand(5).ReadAsArray(0,0,cube.RasterXSize, cube.RasterYSize)\n",
    "    img6 = cube.GetRasterBand(6).ReadAsArray(0,0,cube.RasterXSize, cube.RasterYSize)\n",
    "    img7 = cube.GetRasterBand(7).ReadAsArray(0,0,cube.RasterXSize, cube.RasterYSize)\n",
    "    img8 = cube.GetRasterBand(8).ReadAsArray(0,0,cube.RasterXSize, cube.RasterYSize)\n",
    "    img9 = cube.GetRasterBand(9).ReadAsArray(0,0,cube.RasterXSize, cube.RasterYSize)\n",
    "    img10 = cube.GetRasterBand(10).ReadAsArray(0,0,cube.RasterXSize, cube.RasterYSize)\n",
    "    img11 = cube.GetRasterBand(11).ReadAsArray(0,0,cube.RasterXSize, cube.RasterYSize)\n",
    "    img12 = cube.GetRasterBand(12).ReadAsArray(0,0,cube.RasterXSize, cube.RasterYSize)\n",
    "    img13 = cube.GetRasterBand(13).ReadAsArray(0,0,cube.RasterXSize, cube.RasterYSize)\n",
    " #   x=np.stack((img1/255,img2/255,img3/255,img4/255),2)\n",
    "    im=np.stack((img2,img3,img4,img8),2)\n",
    "    img = np.stack((img5,img6,img7),2)\n",
    "    return im"
   ]
  },
  {
   "cell_type": "markdown",
   "metadata": {},
   "source": [
    "data created using combination of band 5,6,7,8,11,12,13 gave accuracy of 87% and 75% validation, in this training to counter the problem of overfitting of data l2 regularization used with convolution layers inside the model\n",
    "\n",
    "further, new data created using bands 2,3,4,5,6,7 and 8 gave accuracy of 85% and 67% validation with l1 regularization.\n",
    "further more, data with bands 5,6,7,11,12 and 13 gave training accuracy 96% and validation around 69%, underfitting,\n"
   ]
  },
  {
   "cell_type": "code",
   "execution_count": 36,
   "metadata": {},
   "outputs": [],
   "source": [
    "from osgeo import gdal\n",
    "from osgeo import ogr\n",
    "from osgeo import osr\n",
    "from osgeo import gdal_array\n",
    "from osgeo.gdalconst import *\n",
    "def load_images(path=\".\"):\n",
    "    temp=os.listdir(path)\n",
    "    images=[]\n",
    "    output=[]\n",
    "    i=0\n",
    "    for file in temp:\n",
    "        cube=gdal.Open(os.path.join(path,file), gdal.GA_ReadOnly)\n",
    "        img=load_raster(cube)\n",
    "        \n",
    "        \n",
    "        images.append(img)\n",
    "    out=int(path)\n",
    "    output=[out]*len(temp)\n",
    "    return images,output\n",
    "    \n",
    "image1,output1=load_images(\"0\")\n",
    "image2,output2=load_images(\"1\")\n",
    "image3,output3=load_images(\"2\")\n",
    "image4,output4=load_images(\"3\")\n",
    "image5,output5=load_images(\"4\")\n",
    "image6,output6=load_images(\"5\")\n",
    "image7,output7=load_images(\"6\")\n",
    "image8,output8=load_images(\"7\")\n",
    "image9,output9=load_images(\"8\")\n",
    "image10,output10=load_images(\"9\")\n",
    "\n",
    "X=image1+image2+image3+image4+image5+image6+image7+image8+image9+image10\n",
    "Y=output1+output2+output3+output4+output5+output6+output7+output8+output9+output10"
   ]
  },
  {
   "cell_type": "code",
   "execution_count": 37,
   "metadata": {},
   "outputs": [
    {
     "name": "stdout",
     "output_type": "stream",
     "text": [
      "5\n"
     ]
    }
   ],
   "source": [
    "print(Y[12000])"
   ]
  },
  {
   "cell_type": "code",
   "execution_count": 38,
   "metadata": {},
   "outputs": [],
   "source": [
    "def normalize(data):\n",
    "    m=np.mean(data)\n",
    "    s=np.std(data)\n",
    "    #max=np.amax(data)\n",
    "    \n",
    "    return (data-m)/s"
   ]
  },
  {
   "cell_type": "code",
   "execution_count": 39,
   "metadata": {},
   "outputs": [
    {
     "name": "stdout",
     "output_type": "stream",
     "text": [
      "[[[-5.09699832e-01 -3.45837442e-01 -8.56769478e-01  4.11827475e+00]\n",
      "  [-5.09699832e-01 -3.45837442e-01 -8.56769478e-01  4.11827475e+00]\n",
      "  [-5.09699832e-01 -3.50389175e-01 -8.70424677e-01  4.15468862e+00]\n",
      "  ...\n",
      "  [-2.53664848e-01 -1.11423190e-01  2.70922387e-01  1.69561483e+00]\n",
      "  [-2.52526914e-01 -1.21664589e-01  2.57267188e-01  1.62506297e+00]\n",
      "  [-2.86664912e-01 -1.67181920e-01  1.74198060e-01  1.54995938e+00]]\n",
      "\n",
      " [[-5.09699832e-01 -3.45837442e-01 -8.56769478e-01  4.11827475e+00]\n",
      "  [-5.09699832e-01 -3.45837442e-01 -8.56769478e-01  4.11827475e+00]\n",
      "  [-5.09699832e-01 -3.50389175e-01 -8.70424677e-01  4.15468862e+00]\n",
      "  ...\n",
      "  [-2.53664848e-01 -1.11423190e-01  2.70922387e-01  1.69561483e+00]\n",
      "  [-2.52526914e-01 -1.21664589e-01  2.57267188e-01  1.62506297e+00]\n",
      "  [-2.86664912e-01 -1.67181920e-01  1.74198060e-01  1.54995938e+00]]\n",
      "\n",
      " [[-5.09699832e-01 -3.37871909e-01 -8.68148810e-01  4.28213714e+00]\n",
      "  [-5.09699832e-01 -3.37871909e-01 -8.68148810e-01  4.28213714e+00]\n",
      "  [-5.11975699e-01 -3.48113309e-01 -8.65872944e-01  4.20817148e+00]\n",
      "  ...\n",
      "  [-2.62768314e-01 -1.22802522e-01  2.54991321e-01  1.67626997e+00]\n",
      "  [-2.74147647e-01 -1.38733588e-01  2.62956854e-01  1.59092497e+00]\n",
      "  [-2.79837313e-01 -1.86526785e-01  1.95818792e-01  1.48054545e+00]]\n",
      "\n",
      " ...\n",
      "\n",
      " [[-6.70148422e-01 -7.29320952e-01 -1.04225260e+00  3.14192801e+00]\n",
      "  [-6.70148422e-01 -7.29320952e-01 -1.04225260e+00  3.14192801e+00]\n",
      "  [-6.72424289e-01 -7.27045086e-01 -1.04452847e+00  3.00651395e+00]\n",
      "  ...\n",
      "  [-1.68319853e-01 -1.12850625e-02  5.50853970e-01  1.28026919e+00]\n",
      "  [-1.74009519e-01  2.28529355e-02  5.62233303e-01  1.29051059e+00]\n",
      "  [-1.47837054e-01  4.44736675e-02  5.84991968e-01  1.33830379e+00]]\n",
      "\n",
      " [[-6.75838089e-01 -7.38424418e-01 -1.03087327e+00  2.98147942e+00]\n",
      "  [-6.75838089e-01 -7.38424418e-01 -1.03087327e+00  2.98147942e+00]\n",
      "  [-6.87217421e-01 -7.25907152e-01 -1.04566640e+00  3.07137615e+00]\n",
      "  ...\n",
      "  [-1.83112985e-01  3.50806999e-03  5.44026371e-01  1.25751053e+00]\n",
      "  [-1.80837119e-01 -9.00919592e-03  5.48578104e-01  1.27002779e+00]\n",
      "  [-1.53526720e-01  2.39908687e-02  5.82716102e-01  1.31213132e+00]]\n",
      "\n",
      " [[-6.51941490e-01 -7.28183019e-01 -1.00925254e+00  2.80965150e+00]\n",
      "  [-6.51941490e-01 -7.28183019e-01 -1.00925254e+00  2.80965150e+00]\n",
      "  [-6.82665688e-01 -7.21355419e-01 -1.02404567e+00  2.96441042e+00]\n",
      "  ...\n",
      "  [-1.75147453e-01  1.03356696e-02  5.51991903e-01  1.28482093e+00]\n",
      "  [-1.68319853e-01  3.50806999e-03  5.73612635e-01  1.28254506e+00]\n",
      "  [-1.51250854e-01  3.99219344e-02  5.94095434e-01  1.29733819e+00]]]\n"
     ]
    }
   ],
   "source": [
    "\n",
    "X_train=np.asarray(X)\n",
    "if len(X_train.shape)==3:\n",
    "    X_train = X_train[..., newaxis]\n",
    "    \n",
    "#X_train = X_train.reshape(X_train.shape[0], 64, 64,13)\n",
    "X_train=normalize(X)\n",
    "print(X_train[0])\n",
    "#X_train = X_train[..., newaxis]"
   ]
  },
  {
   "cell_type": "code",
   "execution_count": 40,
   "metadata": {},
   "outputs": [
    {
     "data": {
      "text/plain": [
       "4"
      ]
     },
     "execution_count": 40,
     "metadata": {},
     "output_type": "execute_result"
    }
   ],
   "source": [
    "len(X_train.shape)"
   ]
  },
  {
   "cell_type": "code",
   "execution_count": 41,
   "metadata": {},
   "outputs": [
    {
     "name": "stdout",
     "output_type": "stream",
     "text": [
      "(20292,)\n",
      "(20292, 64, 64, 4)\n",
      "(20292, 10)\n",
      "[1. 0. 0. 0. 0. 0. 0. 0. 0. 0.]\n"
     ]
    }
   ],
   "source": [
    "from keras.utils import np_utils\n",
    "from numpy import newaxis\n",
    "\n",
    "y_train=np.asarray(Y)\n",
    "\n",
    "print(y_train.shape)\n",
    "y_train = np_utils.to_categorical(y_train,10)\n",
    "print(X_train.shape)\n",
    "print(y_train.shape)\n",
    "print(y_train[0])\n",
    "#X_train = X_train[..., newaxis]"
   ]
  },
  {
   "cell_type": "code",
   "execution_count": 42,
   "metadata": {},
   "outputs": [
    {
     "name": "stdout",
     "output_type": "stream",
     "text": [
      "[0. 0. 0. 0. 0. 0. 0. 0. 0. 1.]\n"
     ]
    }
   ],
   "source": [
    "print(y_train[18100])"
   ]
  },
  {
   "cell_type": "code",
   "execution_count": 43,
   "metadata": {},
   "outputs": [
    {
     "name": "stdout",
     "output_type": "stream",
     "text": [
      "(14204, 64, 64, 4) (14204, 10)\n"
     ]
    }
   ],
   "source": [
    "from sklearn.utils import shuffle\n",
    "from sklearn.model_selection import train_test_split\n",
    "X_train, y_train = shuffle(X_train, y_train, random_state=0)\n",
    "from sklearn.model_selection import train_test_split\n",
    "from sklearn.utils import shuffle\n",
    "X_train, y_train = shuffle(X_train, y_train, random_state=42)\n",
    "X_train, X_test, y_train, y_test = train_test_split(X_train, y_train, test_size=0.30, random_state=42)\n",
    "print(X_train.shape,y_train.shape)"
   ]
  },
  {
   "cell_type": "code",
   "execution_count": 44,
   "metadata": {},
   "outputs": [],
   "source": [
    "#print(X_train[0][0],y_train[0])"
   ]
  },
  {
   "cell_type": "code",
   "execution_count": 45,
   "metadata": {},
   "outputs": [],
   "source": [
    "from keras.engine import Input, Model\n",
    "from keras.models import Sequential\n",
    "from keras.layers.core import Flatten, Dense, Dropout,Activation\n",
    "from keras.layers import add,concatenate\n",
    "from keras.layers.convolutional import Convolution2D,Conv2D, MaxPooling2D, ZeroPadding2D,AveragePooling2D\n",
    "from keras.optimizers import SGD,adam\n",
    "from keras.layers.normalization import BatchNormalization\n",
    "from keras.preprocessing.image import ImageDataGenerator\n",
    "import keras.backend as K\n",
    "from keras import regularizers\n",
    "import tensorflow as tf"
   ]
  },
  {
   "cell_type": "code",
   "execution_count": 48,
   "metadata": {},
   "outputs": [
    {
     "name": "stdout",
     "output_type": "stream",
     "text": [
      "[name: \"/device:CPU:0\"\n",
      "device_type: \"CPU\"\n",
      "memory_limit: 268435456\n",
      "locality {\n",
      "}\n",
      "incarnation: 214005187409208426\n",
      ", name: \"/device:GPU:0\"\n",
      "device_type: \"GPU\"\n",
      "memory_limit: 4950209331\n",
      "locality {\n",
      "  bus_id: 1\n",
      "  links {\n",
      "  }\n",
      "}\n",
      "incarnation: 16949624433716884259\n",
      "physical_device_desc: \"device: 0, name: GeForce GTX 1060, pci bus id: 0000:01:00.0, compute capability: 6.1\"\n",
      "]\n"
     ]
    },
    {
     "name": "stderr",
     "output_type": "stream",
     "text": [
      "C:\\Users\\Engineer_At_Work\\Anaconda3.5\\lib\\site-packages\\ipykernel_launcher.py:8: UserWarning: Update your `Conv2D` call to the Keras 2 API: `Conv2D(32, (3, 3), input_shape=(64, 64, 4..., activation=\"relu\", kernel_regularizer=<keras.reg..., padding=\"same\")`\n",
      "  \n",
      "C:\\Users\\Engineer_At_Work\\Anaconda3.5\\lib\\site-packages\\ipykernel_launcher.py:16: UserWarning: Update your `Conv2D` call to the Keras 2 API: `Conv2D(64, (3, 3), activation=\"relu\", use_bias=True, kernel_regularizer=<keras.reg..., padding=\"valid\")`\n",
      "  app.launch_new_instance()\n",
      "C:\\Users\\Engineer_At_Work\\Anaconda3.5\\lib\\site-packages\\ipykernel_launcher.py:19: UserWarning: Update your `Conv2D` call to the Keras 2 API: `Conv2D(64, (3, 3), use_bias=True, activation=\"relu\", padding=\"valid\")`\n",
      "C:\\Users\\Engineer_At_Work\\Anaconda3.5\\lib\\site-packages\\ipykernel_launcher.py:23: UserWarning: Update your `Conv2D` call to the Keras 2 API: `Conv2D(128, (3, 3), activation=\"relu\", use_bias=True, padding=\"valid\")`\n"
     ]
    },
    {
     "name": "stdout",
     "output_type": "stream",
     "text": [
      "Train on 14204 samples, validate on 6088 samples\n",
      "Epoch 1/100\n",
      "14204/14204 [==============================] - 14s 968us/step - loss: 0.3265 - acc: 0.4656 - val_loss: 0.1860 - val_acc: 0.5192\n",
      "Epoch 2/100\n",
      "14204/14204 [==============================] - 11s 799us/step - loss: 0.1287 - acc: 0.6292 - val_loss: 0.0976 - val_acc: 0.6514\n",
      "Epoch 3/100\n",
      "14204/14204 [==============================] - 12s 816us/step - loss: 0.0823 - acc: 0.7026 - val_loss: 0.0778 - val_acc: 0.6923\n",
      "Epoch 4/100\n",
      "14204/14204 [==============================] - 12s 817us/step - loss: 0.0656 - acc: 0.7499 - val_loss: 0.0613 - val_acc: 0.7658\n",
      "Epoch 5/100\n",
      "14204/14204 [==============================] - 12s 822us/step - loss: 0.0567 - acc: 0.7827 - val_loss: 0.0580 - val_acc: 0.7518\n",
      "Epoch 6/100\n",
      "14204/14204 [==============================] - 12s 810us/step - loss: 0.0525 - acc: 0.7919 - val_loss: 0.0529 - val_acc: 0.7697\n",
      "Epoch 7/100\n",
      "14204/14204 [==============================] - 12s 820us/step - loss: 0.0479 - acc: 0.8090 - val_loss: 0.0522 - val_acc: 0.7613\n",
      "Epoch 8/100\n",
      "14204/14204 [==============================] - 12s 822us/step - loss: 0.0448 - acc: 0.8208 - val_loss: 0.0475 - val_acc: 0.7911\n",
      "Epoch 9/100\n",
      "14204/14204 [==============================] - 12s 819us/step - loss: 0.0420 - acc: 0.8309 - val_loss: 0.0425 - val_acc: 0.8170\n",
      "Epoch 10/100\n",
      "14204/14204 [==============================] - 12s 815us/step - loss: 0.0395 - acc: 0.8393 - val_loss: 0.0411 - val_acc: 0.8177\n",
      "Epoch 11/100\n",
      "14204/14204 [==============================] - 12s 823us/step - loss: 0.0372 - acc: 0.8490 - val_loss: 0.0381 - val_acc: 0.8346\n",
      "Epoch 12/100\n",
      "14204/14204 [==============================] - 12s 826us/step - loss: 0.0358 - acc: 0.8510 - val_loss: 0.0366 - val_acc: 0.8346\n",
      "Epoch 13/100\n",
      "14204/14204 [==============================] - 12s 831us/step - loss: 0.0339 - acc: 0.8601 - val_loss: 0.0358 - val_acc: 0.8392\n",
      "Epoch 14/100\n",
      "14204/14204 [==============================] - 12s 826us/step - loss: 0.0326 - acc: 0.8643 - val_loss: 0.0309 - val_acc: 0.8712\n",
      "Epoch 15/100\n",
      "14204/14204 [==============================] - 12s 830us/step - loss: 0.0312 - acc: 0.8698 - val_loss: 0.0314 - val_acc: 0.8627\n",
      "Epoch 16/100\n",
      "14204/14204 [==============================] - 12s 828us/step - loss: 0.0301 - acc: 0.8730 - val_loss: 0.0307 - val_acc: 0.8684\n",
      "Epoch 17/100\n",
      "14204/14204 [==============================] - 12s 813us/step - loss: 0.0287 - acc: 0.8789 - val_loss: 0.0286 - val_acc: 0.8771\n",
      "Epoch 18/100\n",
      "14204/14204 [==============================] - 12s 827us/step - loss: 0.0281 - acc: 0.8800 - val_loss: 0.0272 - val_acc: 0.8870\n",
      "Epoch 19/100\n",
      "14204/14204 [==============================] - 12s 825us/step - loss: 0.0271 - acc: 0.8839 - val_loss: 0.0313 - val_acc: 0.8533\n",
      "Epoch 20/100\n",
      "14204/14204 [==============================] - 12s 821us/step - loss: 0.0260 - acc: 0.8900 - val_loss: 0.0266 - val_acc: 0.8821\n",
      "Epoch 21/100\n",
      "14204/14204 [==============================] - 12s 813us/step - loss: 0.0255 - acc: 0.8914 - val_loss: 0.0267 - val_acc: 0.8819\n",
      "Epoch 22/100\n",
      "14204/14204 [==============================] - 12s 826us/step - loss: 0.0246 - acc: 0.8947 - val_loss: 0.0287 - val_acc: 0.8670\n",
      "Epoch 23/100\n",
      "14204/14204 [==============================] - 12s 831us/step - loss: 0.0240 - acc: 0.8978 - val_loss: 0.0237 - val_acc: 0.8975\n",
      "Epoch 24/100\n",
      "14204/14204 [==============================] - 12s 818us/step - loss: 0.0234 - acc: 0.9000 - val_loss: 0.0229 - val_acc: 0.9031\n",
      "Epoch 25/100\n",
      "14204/14204 [==============================] - 12s 822us/step - loss: 0.0231 - acc: 0.8992 - val_loss: 0.0235 - val_acc: 0.8944\n",
      "Epoch 26/100\n",
      "14204/14204 [==============================] - 12s 825us/step - loss: 0.0220 - acc: 0.9067 - val_loss: 0.0217 - val_acc: 0.9067\n",
      "Epoch 27/100\n",
      "14204/14204 [==============================] - 12s 827us/step - loss: 0.0219 - acc: 0.9059 - val_loss: 0.0219 - val_acc: 0.9028\n",
      "Epoch 28/100\n",
      "14204/14204 [==============================] - 12s 812us/step - loss: 0.0212 - acc: 0.9095 - val_loss: 0.0245 - val_acc: 0.8867\n",
      "Epoch 29/100\n",
      "14204/14204 [==============================] - 12s 832us/step - loss: 0.0208 - acc: 0.9105 - val_loss: 0.0214 - val_acc: 0.9036\n",
      "Epoch 30/100\n",
      "14204/14204 [==============================] - 12s 824us/step - loss: 0.0207 - acc: 0.9090 - val_loss: 0.0287 - val_acc: 0.8540\n",
      "Epoch 31/100\n",
      "14204/14204 [==============================] - 12s 829us/step - loss: 0.0204 - acc: 0.9102 - val_loss: 0.0224 - val_acc: 0.8934\n",
      "Epoch 32/100\n",
      "14204/14204 [==============================] - 12s 815us/step - loss: 0.0194 - acc: 0.9178 - val_loss: 0.0212 - val_acc: 0.9031\n",
      "Epoch 33/100\n",
      "14204/14204 [==============================] - 12s 822us/step - loss: 0.0196 - acc: 0.9147 - val_loss: 0.0201 - val_acc: 0.9129\n",
      "Epoch 34/100\n",
      "14204/14204 [==============================] - 12s 826us/step - loss: 0.0194 - acc: 0.9145 - val_loss: 0.0211 - val_acc: 0.9042\n",
      "Epoch 35/100\n",
      "14204/14204 [==============================] - 12s 819us/step - loss: 0.0181 - acc: 0.9244 - val_loss: 0.0210 - val_acc: 0.9006\n",
      "Epoch 36/100\n",
      "14204/14204 [==============================] - 12s 814us/step - loss: 0.0188 - acc: 0.9184 - val_loss: 0.0196 - val_acc: 0.9115\n",
      "Epoch 37/100\n",
      "14204/14204 [==============================] - 12s 829us/step - loss: 0.0181 - acc: 0.9209 - val_loss: 0.0223 - val_acc: 0.8937\n",
      "Epoch 38/100\n",
      "14204/14204 [==============================] - 12s 830us/step - loss: 0.0182 - acc: 0.9211 - val_loss: 0.0197 - val_acc: 0.9065\n",
      "Epoch 39/100\n",
      "14204/14204 [==============================] - 12s 836us/step - loss: 0.0177 - acc: 0.9223 - val_loss: 0.0220 - val_acc: 0.8875\n",
      "Epoch 40/100\n",
      "14204/14204 [==============================] - 12s 830us/step - loss: 0.0175 - acc: 0.9245 - val_loss: 0.0255 - val_acc: 0.8681\n",
      "Epoch 41/100\n",
      "14204/14204 [==============================] - 12s 842us/step - loss: 0.0171 - acc: 0.9247 - val_loss: 0.0190 - val_acc: 0.9139\n",
      "Epoch 42/100\n",
      "14204/14204 [==============================] - 13s 894us/step - loss: 0.0168 - acc: 0.9266 - val_loss: 0.0214 - val_acc: 0.8926\n",
      "Epoch 43/100\n",
      "14204/14204 [==============================] - 12s 845us/step - loss: 0.0164 - acc: 0.9304 - val_loss: 0.0187 - val_acc: 0.9134\n",
      "Epoch 44/100\n",
      "14204/14204 [==============================] - 12s 830us/step - loss: 0.0162 - acc: 0.9311 - val_loss: 0.0195 - val_acc: 0.9067\n",
      "Epoch 45/100\n",
      "14204/14204 [==============================] - 12s 829us/step - loss: 0.0161 - acc: 0.9309 - val_loss: 0.0183 - val_acc: 0.9131\n",
      "Epoch 46/100\n",
      "14204/14204 [==============================] - 12s 831us/step - loss: 0.0160 - acc: 0.9305 - val_loss: 0.0213 - val_acc: 0.8970\n",
      "Epoch 47/100\n",
      "14204/14204 [==============================] - 12s 816us/step - loss: 0.0159 - acc: 0.9309 - val_loss: 0.0161 - val_acc: 0.9285\n",
      "Epoch 48/100\n",
      "14204/14204 [==============================] - 12s 844us/step - loss: 0.0155 - acc: 0.9342 - val_loss: 0.0206 - val_acc: 0.8978\n",
      "Epoch 49/100\n",
      "14204/14204 [==============================] - 12s 839us/step - loss: 0.0155 - acc: 0.9318 - val_loss: 0.0184 - val_acc: 0.9148\n",
      "Epoch 50/100\n",
      "14204/14204 [==============================] - 12s 838us/step - loss: 0.0150 - acc: 0.9358 - val_loss: 0.0175 - val_acc: 0.9198\n",
      "Epoch 51/100\n",
      "14204/14204 [==============================] - 12s 830us/step - loss: 0.0150 - acc: 0.9359 - val_loss: 0.0168 - val_acc: 0.9235\n",
      "Epoch 52/100\n",
      "14204/14204 [==============================] - 13s 884us/step - loss: 0.0155 - acc: 0.9335 - val_loss: 0.0168 - val_acc: 0.9231\n",
      "Epoch 53/100\n",
      "14204/14204 [==============================] - 12s 868us/step - loss: 0.0151 - acc: 0.9355 - val_loss: 0.0179 - val_acc: 0.9110\n",
      "Epoch 54/100\n",
      "14204/14204 [==============================] - 13s 898us/step - loss: 0.0149 - acc: 0.9361 - val_loss: 0.0227 - val_acc: 0.8811\n",
      "Epoch 55/100\n",
      "14204/14204 [==============================] - 12s 853us/step - loss: 0.0152 - acc: 0.9330 - val_loss: 0.0204 - val_acc: 0.8967\n",
      "Epoch 56/100\n",
      "14204/14204 [==============================] - 12s 853us/step - loss: 0.0146 - acc: 0.9378 - val_loss: 0.0166 - val_acc: 0.9246\n",
      "Epoch 57/100\n",
      "14204/14204 [==============================] - 12s 846us/step - loss: 0.0141 - acc: 0.9397 - val_loss: 0.0189 - val_acc: 0.9069\n",
      "Epoch 58/100\n",
      "14204/14204 [==============================] - 12s 833us/step - loss: 0.0139 - acc: 0.9394 - val_loss: 0.0165 - val_acc: 0.9225\n"
     ]
    },
    {
     "name": "stdout",
     "output_type": "stream",
     "text": [
      "Epoch 59/100\n",
      "14204/14204 [==============================] - 12s 821us/step - loss: 0.0141 - acc: 0.9396 - val_loss: 0.0170 - val_acc: 0.9207\n",
      "Epoch 60/100\n",
      "14204/14204 [==============================] - 12s 823us/step - loss: 0.0140 - acc: 0.9393 - val_loss: 0.0155 - val_acc: 0.9287\n",
      "Epoch 61/100\n",
      "14204/14204 [==============================] - 12s 833us/step - loss: 0.0135 - acc: 0.9452 - val_loss: 0.0159 - val_acc: 0.9281\n",
      "Epoch 62/100\n",
      "14204/14204 [==============================] - 12s 838us/step - loss: 0.0132 - acc: 0.9458 - val_loss: 0.0166 - val_acc: 0.9215\n",
      "Epoch 63/100\n",
      "14204/14204 [==============================] - 12s 820us/step - loss: 0.0136 - acc: 0.9414 - val_loss: 0.0243 - val_acc: 0.8714\n",
      "Epoch 64/100\n",
      "14204/14204 [==============================] - 12s 835us/step - loss: 0.0129 - acc: 0.9454 - val_loss: 0.0160 - val_acc: 0.9281\n",
      "Epoch 65/100\n",
      "14204/14204 [==============================] - 12s 831us/step - loss: 0.0133 - acc: 0.9426 - val_loss: 0.0205 - val_acc: 0.8967\n",
      "Epoch 66/100\n",
      "14204/14204 [==============================] - 12s 830us/step - loss: 0.0131 - acc: 0.9430 - val_loss: 0.0162 - val_acc: 0.9236\n",
      "Epoch 67/100\n",
      "14204/14204 [==============================] - 12s 816us/step - loss: 0.0127 - acc: 0.9471 - val_loss: 0.0152 - val_acc: 0.9299\n",
      "Epoch 68/100\n",
      "14204/14204 [==============================] - 12s 829us/step - loss: 0.0137 - acc: 0.9404 - val_loss: 0.0195 - val_acc: 0.9024\n",
      "Epoch 69/100\n",
      "14204/14204 [==============================] - 12s 831us/step - loss: 0.0129 - acc: 0.9437 - val_loss: 0.0157 - val_acc: 0.9271\n",
      "Epoch 70/100\n",
      "14204/14204 [==============================] - 12s 835us/step - loss: 0.0123 - acc: 0.9479 - val_loss: 0.0191 - val_acc: 0.9052\n",
      "Epoch 71/100\n",
      "14204/14204 [==============================] - 12s 815us/step - loss: 0.0125 - acc: 0.9474 - val_loss: 0.0138 - val_acc: 0.9376\n",
      "Epoch 72/100\n",
      "14204/14204 [==============================] - 12s 835us/step - loss: 0.0125 - acc: 0.9484 - val_loss: 0.0193 - val_acc: 0.8998\n",
      "Epoch 73/100\n",
      "14204/14204 [==============================] - 12s 835us/step - loss: 0.0121 - acc: 0.9499 - val_loss: 0.0153 - val_acc: 0.9277\n",
      "Epoch 74/100\n",
      "14204/14204 [==============================] - 12s 830us/step - loss: 0.0121 - acc: 0.9487 - val_loss: 0.0175 - val_acc: 0.9121\n",
      "Epoch 75/100\n",
      "14204/14204 [==============================] - 12s 835us/step - loss: 0.0123 - acc: 0.9475 - val_loss: 0.0139 - val_acc: 0.9376\n",
      "Epoch 76/100\n",
      "14204/14204 [==============================] - 12s 832us/step - loss: 0.0117 - acc: 0.9514 - val_loss: 0.0179 - val_acc: 0.9098\n",
      "Epoch 77/100\n",
      "14204/14204 [==============================] - 12s 836us/step - loss: 0.0122 - acc: 0.9476 - val_loss: 0.0152 - val_acc: 0.9277\n",
      "Epoch 78/100\n",
      "14204/14204 [==============================] - 12s 837us/step - loss: 0.0114 - acc: 0.9534 - val_loss: 0.0150 - val_acc: 0.9308\n",
      "Epoch 79/100\n",
      "14204/14204 [==============================] - 12s 836us/step - loss: 0.0118 - acc: 0.9490 - val_loss: 0.0216 - val_acc: 0.8812\n",
      "Epoch 80/100\n",
      "14204/14204 [==============================] - 12s 833us/step - loss: 0.0115 - acc: 0.9518 - val_loss: 0.0152 - val_acc: 0.9290\n",
      "Epoch 81/100\n",
      "14204/14204 [==============================] - 12s 838us/step - loss: 0.0114 - acc: 0.9534 - val_loss: 0.0192 - val_acc: 0.9001\n",
      "Epoch 82/100\n",
      "14204/14204 [==============================] - 12s 824us/step - loss: 0.0108 - acc: 0.9576 - val_loss: 0.0147 - val_acc: 0.9299\n",
      "Epoch 83/100\n",
      "14204/14204 [==============================] - 12s 840us/step - loss: 0.0112 - acc: 0.9542 - val_loss: 0.0164 - val_acc: 0.9167\n",
      "Epoch 84/100\n",
      "14204/14204 [==============================] - 12s 832us/step - loss: 0.0112 - acc: 0.9532 - val_loss: 0.0146 - val_acc: 0.9302\n",
      "Epoch 85/100\n",
      "14204/14204 [==============================] - 12s 836us/step - loss: 0.0112 - acc: 0.9536 - val_loss: 0.0145 - val_acc: 0.9335\n",
      "Epoch 86/100\n",
      "14204/14204 [==============================] - 12s 814us/step - loss: 0.0110 - acc: 0.9544 - val_loss: 0.0144 - val_acc: 0.9331\n",
      "Epoch 87/100\n",
      "14204/14204 [==============================] - 12s 834us/step - loss: 0.0107 - acc: 0.9579 - val_loss: 0.0154 - val_acc: 0.9276\n",
      "Epoch 88/100\n",
      "14204/14204 [==============================] - 12s 841us/step - loss: 0.0109 - acc: 0.9557 - val_loss: 0.0148 - val_acc: 0.9289\n",
      "Epoch 89/100\n",
      "14204/14204 [==============================] - 12s 848us/step - loss: 0.0109 - acc: 0.9547 - val_loss: 0.0172 - val_acc: 0.9116\n",
      "Epoch 90/100\n",
      "14204/14204 [==============================] - 12s 826us/step - loss: 0.0108 - acc: 0.9552 - val_loss: 0.0138 - val_acc: 0.9364\n",
      "Epoch 91/100\n",
      "14204/14204 [==============================] - 12s 824us/step - loss: 0.0103 - acc: 0.9597 - val_loss: 0.0141 - val_acc: 0.9351\n",
      "Epoch 92/100\n",
      "14204/14204 [==============================] - 12s 827us/step - loss: 0.0104 - acc: 0.9587 - val_loss: 0.0158 - val_acc: 0.9243\n",
      "Epoch 93/100\n",
      "14204/14204 [==============================] - 12s 832us/step - loss: 0.0104 - acc: 0.9571 - val_loss: 0.0159 - val_acc: 0.9238\n",
      "Epoch 94/100\n",
      "14204/14204 [==============================] - 12s 815us/step - loss: 0.0107 - acc: 0.9556 - val_loss: 0.0149 - val_acc: 0.9297\n",
      "Epoch 95/100\n",
      "14204/14204 [==============================] - 12s 839us/step - loss: 0.0100 - acc: 0.9612 - val_loss: 0.0134 - val_acc: 0.9392\n",
      "Epoch 96/100\n",
      "14204/14204 [==============================] - 12s 837us/step - loss: 0.0100 - acc: 0.9615 - val_loss: 0.0175 - val_acc: 0.9136\n",
      "Epoch 97/100\n",
      "14204/14204 [==============================] - 12s 829us/step - loss: 0.0103 - acc: 0.9582 - val_loss: 0.0150 - val_acc: 0.9272\n",
      "Epoch 98/100\n",
      "14204/14204 [==============================] - 12s 834us/step - loss: 0.0102 - acc: 0.9597 - val_loss: 0.0146 - val_acc: 0.9297\n",
      "Epoch 99/100\n",
      "14204/14204 [==============================] - 12s 854us/step - loss: 0.0100 - acc: 0.9607 - val_loss: 0.0134 - val_acc: 0.9381\n",
      "Epoch 100/100\n",
      "14204/14204 [==============================] - 14s 976us/step - loss: 0.0100 - acc: 0.9599 - val_loss: 0.0136 - val_acc: 0.9371\n"
     ]
    }
   ],
   "source": [
    "from keras import optimizers\n",
    "from tensorflow.python.client import device_lib\n",
    "print(device_lib.list_local_devices())\n",
    "# use_bias=True,\n",
    "def custom_model(weights_path=None):\n",
    "    modelnn = Sequential()\n",
    "    \n",
    "    modelnn.add(Convolution2D(32, 3, 3, input_shape=(64,64,4), activation='relu', border_mode='same',kernel_regularizer=regularizers.l2(0.01)))\n",
    "  #  modelnn.add(BatchNormalization())\n",
    "\n",
    "    #modelnn.add(Convolution2D(32, 3, 3, input_shape=(64,64,1),use_bias=True, activation='relu', border_mode='same'))\n",
    "  #  modelnn.add(Convolution2D(32, 3, 3, use_bias=True,activation='relu', border_mode='same'))\n",
    "    modelnn.add(MaxPooling2D(pool_size=(2, 2)))\n",
    "    \n",
    "    modelnn.add(Dropout(0.2))\n",
    "    modelnn.add(Convolution2D(64, 3, 3, activation='relu', border_mode='valid',use_bias=True,kernel_regularizer=regularizers.l2(0.01)))\n",
    "    modelnn.add(MaxPooling2D(pool_size=(2, 2)))\n",
    "    #modelnn.add(BatchNormalization())\n",
    "    modelnn.add(Convolution2D(64, 3, 3, use_bias=True, activation='relu', border_mode='valid'))\n",
    "    modelnn.add(MaxPooling2D(pool_size=(2, 2)))\n",
    "    \n",
    "   # modelnn.add(Dropout(0.2))\n",
    "    modelnn.add(Convolution2D(128, 3, 3, activation='relu',use_bias=True, border_mode='valid'))\n",
    "#    modelnn.add(Convolution2D(128, 3, 3, use_bias=True, activation='relu', border_mode='same'))\n",
    "    #modelnn.add(BatchNormalization())\n",
    "    modelnn.add(MaxPooling2D(pool_size=(2, 2)))\n",
    "    modelnn.add(Dropout(0.4))\n",
    "    modelnn.add(Flatten())\n",
    "    modelnn.add(Dense(2048, activation='relu'))\n",
    "#    modelnn.add(BatchNormalization())\n",
    "    modelnn.add(Dropout(0.4))\n",
    "    modelnn.add(Dense(1024, activation='relu'))\n",
    " #   modelnn.add(BatchNormalization())\n",
    "    modelnn.add(Dense(512, activation='relu'))\n",
    "    modelnn.add(Dropout(0.4))\n",
    "    modelnn.add(Dense(10, activation='softmax'))\n",
    "\n",
    "    if weights_path:\n",
    "        model.load_weights(weights_path)\n",
    "        \n",
    "    return modelnn\n",
    "\n",
    "model=custom_model()\n",
    "sgd = optimizers.adam(lr=0.0001)\n",
    "model.compile(optimizer=sgd,loss=\"mse\",metrics=[\"accuracy\"])\n",
    "\n",
    "history=model.fit(X_train, y_train, epochs=100, verbose=1, batch_size=32,validation_data=(X_test, y_test))"
   ]
  },
  {
   "cell_type": "code",
   "execution_count": 52,
   "metadata": {},
   "outputs": [
    {
     "name": "stdout",
     "output_type": "stream",
     "text": [
      "Saved model to disk\n"
     ]
    }
   ],
   "source": [
    "model_red_edge = model.to_json()\n",
    "with open(\"model_red_edge.json\", \"w\") as json_file:\n",
    "    json_file.write(model_red_edge)\n",
    "# serialize weights to HDF5\n",
    "model.save_weights(\"model_red_edge.h5\")\n",
    "print(\"Saved model to disk\")"
   ]
  },
  {
   "cell_type": "code",
   "execution_count": 49,
   "metadata": {},
   "outputs": [
    {
     "data": {
      "image/png": "[encoded data removed]",
      "text/plain": [
       "<Figure size 432x288 with 1 Axes>"
      ]
     },
     "metadata": {},
     "output_type": "display_data"
    },
    {
     "data": {
      "text/plain": [
       "<Figure size 432x288 with 0 Axes>"
      ]
     },
     "metadata": {},
     "output_type": "display_data"
    }
   ],
   "source": [
    "#Graph is showning overfitting problem,\n",
    "plt.plot(history.history['loss'])\n",
    "plt.plot(history.history['val_loss'])\n",
    "plt.title('model loss')\n",
    "plt.ylabel('loss')\n",
    "plt.xlabel('epoch')\n",
    "plt.legend(['train', 'test'], loc='upper left')\n",
    "plt.show()\n",
    "plt.savefig('model_l2_regularizer.jpg')"
   ]
  },
  {
   "cell_type": "code",
   "execution_count": 50,
   "metadata": {},
   "outputs": [
    {
     "data": {
      "image/png": "[encoded data removed]",
      "text/plain": [
       "<Figure size 432x288 with 1 Axes>"
      ]
     },
     "metadata": {},
     "output_type": "display_data"
    }
   ],
   "source": [
    "plt.plot(history.history['acc'])\n",
    "plt.plot(history.history['val_acc'])\n",
    "plt.title('model accuracy')\n",
    "plt.ylabel('Accuracy')\n",
    "plt.xlabel('epoch')\n",
    "plt.legend(['train', 'test'], loc='upper left')\n",
    "plt.show()"
   ]
  },
  {
   "cell_type": "code",
   "execution_count": 56,
   "metadata": {},
   "outputs": [],
   "source": [
    "#kernel_regularizer=regularizers.l2(0.01)\n",
    "from numpy import argmax\n",
    "\n",
    "def load_raster(cube):\n",
    "    \n",
    "    img1 = cube.GetRasterBand(1).ReadAsArray(0,0,cube.RasterXSize, cube.RasterYSize)\n",
    "    img2 = cube.GetRasterBand(2).ReadAsArray(0,0,cube.RasterXSize, cube.RasterYSize)\n",
    "    img3 = cube.GetRasterBand(3).ReadAsArray(0,0,cube.RasterXSize, cube.RasterYSize)\n",
    "    img4 = cube.GetRasterBand(4).ReadAsArray(0,0,cube.RasterXSize, cube.RasterYSize)\n",
    "    img5 = cube.GetRasterBand(5).ReadAsArray(0,0,cube.RasterXSize, cube.RasterYSize)\n",
    "    img6 = cube.GetRasterBand(6).ReadAsArray(0,0,cube.RasterXSize, cube.RasterYSize)\n",
    "    img7 = cube.GetRasterBand(7).ReadAsArray(0,0,cube.RasterXSize, cube.RasterYSize)\n",
    "    img8 = cube.GetRasterBand(8).ReadAsArray(0,0,cube.RasterXSize, cube.RasterYSize)\n",
    "    img9 = cube.GetRasterBand(9).ReadAsArray(0,0,cube.RasterXSize, cube.RasterYSize)\n",
    "    img10 = cube.GetRasterBand(10).ReadAsArray(0,0,cube.RasterXSize, cube.RasterYSize)\n",
    "    img11 = cube.GetRasterBand(11).ReadAsArray(0,0,cube.RasterXSize, cube.RasterYSize)\n",
    "    img12 = cube.GetRasterBand(12).ReadAsArray(0,0,cube.RasterXSize, cube.RasterYSize)\n",
    "    img13 = cube.GetRasterBand(13).ReadAsArray(0,0,cube.RasterXSize, cube.RasterYSize)\n",
    " #   x=np.stack((img1/255,img2/255,img3/255,img4/255),2)\n",
    "    im=np.stack((img2,img3,img4,img8),2)\n",
    "    img = np.stack((img5,img6,img7),2)\n",
    "    return im\n",
    "def load_images(path=\".\"):\n",
    "    temp=os.listdir(path)\n",
    "    images=[]\n",
    "    files=[]\n",
    "    output=[]\n",
    "  #  print(temp)\n",
    "    for file in temp:\n",
    "        files.append(file)\n",
    "        cube=gdal.Open(os.path.join(path,file), gdal.GA_ReadOnly)\n",
    "      #  print(cube)\n",
    "        img=load_raster(cube)\n",
    "       # print(img.shape)\n",
    "        images.append(img)\n",
    "        \n",
    "    return images,files\n",
    "new_data,files=load_images(\"./test_set\")\n",
    "#print(new_data)\n",
    "new_data=np.asarray(new_data)\n",
    "#new_data.reshape(64,64,3)\n",
    "max=np.amax(new_data)\n",
    "new_data=normalize(new_data)\n",
    "new_data.shape\n",
    "y_predict=model.predict(new_data)\n",
    "y_predict=argmax(y_predict,axis=1)"
   ]
  },
  {
   "cell_type": "code",
   "execution_count": 57,
   "metadata": {},
   "outputs": [
    {
     "data": {
      "text/plain": [
       "array([1, 3, 6, ..., 6, 3, 4], dtype=int64)"
      ]
     },
     "execution_count": 57,
     "metadata": {},
     "output_type": "execute_result"
    }
   ],
   "source": [
    "y_predict"
   ]
  },
  {
   "cell_type": "code",
   "execution_count": 70,
   "metadata": {},
   "outputs": [],
   "source": []
  },
  {
   "cell_type": "code",
   "execution_count": null,
   "metadata": {},
   "outputs": [],
   "source": []
  },
  {
   "cell_type": "code",
   "execution_count": 83,
   "metadata": {},
   "outputs": [
    {
     "data": {
      "text/plain": [
       "7"
      ]
     },
     "execution_count": 83,
     "metadata": {},
     "output_type": "execute_result"
    }
   ],
   "source": [
    "\n",
    "y_val[349]"
   ]
  },
  {
   "cell_type": "code",
   "execution_count": 58,
   "metadata": {},
   "outputs": [],
   "source": [
    "import csv\n",
    "\n",
    "output_file=open('test_data.csv','w')\n",
    "output_writer=csv.writer(output_file)\n",
    "\n",
    "for i in range(len(files)):\n",
    "    row=[files[i],y_predict[i]]\n",
    "   # for i in index:\n",
    "    output_writer.writerow(row)\n"
   ]
  },
  {
   "cell_type": "code",
   "execution_count": null,
   "metadata": {},
   "outputs": [],
   "source": []
  },
  {
   "cell_type": "code",
   "execution_count": null,
   "metadata": {},
   "outputs": [],
   "source": []
  },
  {
   "cell_type": "code",
   "execution_count": null,
   "metadata": {},
   "outputs": [],
   "source": []
  },
  {
   "cell_type": "code",
   "execution_count": null,
   "metadata": {},
   "outputs": [],
   "source": []
  },
  {
   "cell_type": "code",
   "execution_count": null,
   "metadata": {},
   "outputs": [],
   "source": []
  },
  {
   "cell_type": "code",
   "execution_count": null,
   "metadata": {},
   "outputs": [],
   "source": []
  },
  {
   "cell_type": "code",
   "execution_count": null,
   "metadata": {},
   "outputs": [],
   "source": []
  },
  {
   "cell_type": "code",
   "execution_count": null,
   "metadata": {},
   "outputs": [],
   "source": []
  },
  {
   "cell_type": "code",
   "execution_count": null,
   "metadata": {},
   "outputs": [],
   "source": []
  },
  {
   "cell_type": "code",
   "execution_count": null,
   "metadata": {},
   "outputs": [],
   "source": []
  },
  {
   "cell_type": "code",
   "execution_count": null,
   "metadata": {},
   "outputs": [],
   "source": []
  },
  {
   "cell_type": "code",
   "execution_count": null,
   "metadata": {},
   "outputs": [],
   "source": []
  },
  {
   "cell_type": "code",
   "execution_count": null,
   "metadata": {
    "scrolled": true
   },
   "outputs": [],
   "source": []
  },
  {
   "cell_type": "code",
   "execution_count": null,
   "metadata": {},
   "outputs": [],
   "source": []
  },
  {
   "cell_type": "code",
   "execution_count": null,
   "metadata": {},
   "outputs": [],
   "source": [
    "\n"
   ]
  },
  {
   "cell_type": "code",
   "execution_count": null,
   "metadata": {},
   "outputs": [],
   "source": []
  },
  {
   "cell_type": "code",
   "execution_count": null,
   "metadata": {},
   "outputs": [],
   "source": []
  },
  {
   "cell_type": "code",
   "execution_count": null,
   "metadata": {},
   "outputs": [],
   "source": []
  },
  {
   "cell_type": "code",
   "execution_count": null,
   "metadata": {},
   "outputs": [],
   "source": []
  },
  {
   "cell_type": "code",
   "execution_count": null,
   "metadata": {},
   "outputs": [],
   "source": []
  },
  {
   "cell_type": "code",
   "execution_count": null,
   "metadata": {},
   "outputs": [],
   "source": []
  },
  {
   "cell_type": "code",
   "execution_count": null,
   "metadata": {},
   "outputs": [],
   "source": []
  }
 ],
 "metadata": {
  "kernelspec": {
   "display_name": "Python 3",
   "language": "python",
   "name": "python3"
  },
  "language_info": {
   "codemirror_mode": {
    "name": "ipython",
    "version": 3
   },
   "file_extension": ".py",
   "mimetype": "text/x-python",
   "name": "python",
   "nbconvert_exporter": "python",
   "pygments_lexer": "ipython3",
   "version": "3.6.5"
  }
 },
 "nbformat": 4,
 "nbformat_minor": 2
}
